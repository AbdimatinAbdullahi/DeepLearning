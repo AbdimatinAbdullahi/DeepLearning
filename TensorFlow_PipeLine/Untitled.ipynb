{
 "cells": [
  {
   "cell_type": "code",
   "execution_count": 1,
   "id": "628c973d-a67e-4574-959c-16c9a4effe1a",
   "metadata": {},
   "outputs": [],
   "source": [
    "import tensorflow as tf"
   ]
  },
  {
   "cell_type": "code",
   "execution_count": 3,
   "id": "1a4b5d89-fbe4-419b-82be-9e8dbbd4e4e8",
   "metadata": {},
   "outputs": [],
   "source": [
    "daily_sales = [10, 20, 30, 40, 50, -20, -10]"
   ]
  },
  {
   "cell_type": "code",
   "execution_count": 5,
   "id": "71116514-68e6-4c44-b7f4-a48370e5a9a2",
   "metadata": {},
   "outputs": [],
   "source": [
    "tf_datasets = tf.data.Dataset.from_tensor_slices(daily_sales)"
   ]
  },
  {
   "cell_type": "code",
   "execution_count": 7,
   "id": "55c23413-9d30-4327-a6d9-fb10e3538ebc",
   "metadata": {},
   "outputs": [
    {
     "name": "stdout",
     "output_type": "stream",
     "text": [
      "10\n",
      "20\n",
      "30\n",
      "40\n",
      "50\n",
      "-20\n",
      "-10\n"
     ]
    }
   ],
   "source": [
    "for sales in tf_datasets.as_numpy_iterator():\n",
    "    print(sales)\n"
   ]
  },
  {
   "cell_type": "code",
   "execution_count": 15,
   "id": "4935d165-8804-47a1-ad27-a3a914e93604",
   "metadata": {},
   "outputs": [],
   "source": [
    "tf_datsets = tf.data.Dataset.from_tensor_slices(daily_sales)"
   ]
  },
  {
   "cell_type": "code",
   "execution_count": 19,
   "id": "ff620fc7-a082-468b-8455-3827bfea113b",
   "metadata": {},
   "outputs": [],
   "source": [
    "pipeline = tf_datsets.filter(lambda x: x > 0).map(lambda y: y *140).shuffle(2).batch(3)"
   ]
  },
  {
   "cell_type": "code",
   "execution_count": 23,
   "id": "7d853462-dc1b-43cf-b864-223a78effa96",
   "metadata": {},
   "outputs": [
    {
     "name": "stdout",
     "output_type": "stream",
     "text": [
      "[1400 4200 5600]\n",
      "[7000 2800]\n"
     ]
    }
   ],
   "source": [
    "for sales in pipeline:\n",
    "    print(sales.numpy())"
   ]
  },
  {
   "cell_type": "code",
   "execution_count": 27,
   "id": "19914c4f-2ae5-4824-ad00-2b698d215082",
   "metadata": {},
   "outputs": [
    {
     "name": "stdout",
     "output_type": "stream",
     "text": [
      "b'Images\\\\Cat\\\\cat1.jpg'\n",
      "b'Images\\\\Cat\\\\ccat7.jpg'\n",
      "b'Images\\\\Cat\\\\cat3.jpg'\n",
      "b'Images\\\\Dog\\\\dog9.jpg'\n"
     ]
    }
   ],
   "source": [
    "tf_images = tf.data.Dataset.list_files('Images/*/*', shuffle=True)\n",
    "for file in tf_images.take(4):\n",
    "    print(file.numpy())"
   ]
  },
  {
   "cell_type": "code",
   "execution_count": 29,
   "id": "a0ec5fdc-1944-42f8-b9c9-37d415668e0e",
   "metadata": {},
   "outputs": [
    {
     "name": "stdout",
     "output_type": "stream",
     "text": [
      "b'Images\\\\Cat\\\\cat2.jpg'\n",
      "b'Images\\\\Cat\\\\cat4.jpg'\n",
      "b'Images\\\\Dog\\\\dog6.jpg'\n",
      "b'Images\\\\Dog\\\\dog4.jpg'\n",
      "b'Images\\\\Cat\\\\cat5.jpg'\n",
      "b'Images\\\\Dog\\\\dog9.jpg'\n"
     ]
    }
   ],
   "source": [
    "for file in tf_images.take(6).shuffle(4):\n",
    "    print(file.numpy())"
   ]
  },
  {
   "cell_type": "code",
   "execution_count": 33,
   "id": "7c17df98-cefe-430a-ab73-fa1089a41ddd",
   "metadata": {},
   "outputs": [],
   "source": [
    "label_names = ['Dog', 'Cat']\n",
    "image_count = len(tf_images)"
   ]
  },
  {
   "cell_type": "code",
   "execution_count": 50,
   "id": "d1934f65-1ff5-408b-884b-96f7cc0b31a9",
   "metadata": {},
   "outputs": [],
   "source": [
    "train_size = int(image_count * 0.8)\n",
    "train_ds = tf_images.take(train_size)\n",
    "test_ds = tf_images.skip(train_size)"
   ]
  },
  {
   "cell_type": "code",
   "execution_count": 52,
   "id": "e6f5b4aa-bc32-48a1-aae9-4316ed75c2d6",
   "metadata": {},
   "outputs": [
    {
     "data": {
      "text/plain": [
       "16"
      ]
     },
     "execution_count": 52,
     "metadata": {},
     "output_type": "execute_result"
    }
   ],
   "source": [
    "len(train_ds)"
   ]
  },
  {
   "cell_type": "code",
   "execution_count": 54,
   "id": "1e41aa34-589a-4ebf-99cc-ddaac48bd4e8",
   "metadata": {},
   "outputs": [
    {
     "data": {
      "text/plain": [
       "4"
      ]
     },
     "execution_count": 54,
     "metadata": {},
     "output_type": "execute_result"
    }
   ],
   "source": [
    "len(test_ds)"
   ]
  },
  {
   "cell_type": "code",
   "execution_count": 58,
   "id": "03354552-c15e-4c02-8cf9-ad068b85fbc8",
   "metadata": {},
   "outputs": [],
   "source": [
    "def get_labels(file_path):\n",
    "    import os\n",
    "    return tf.strings.split(file_path, os.path.sep)[-2]"
   ]
  },
  {
   "cell_type": "code",
   "execution_count": 62,
   "id": "e08e577d-1057-455b-a2ee-932a5a922f02",
   "metadata": {},
   "outputs": [
    {
     "name": "stdout",
     "output_type": "stream",
     "text": [
      "b'Cat'\n",
      "b'Cat'\n",
      "b'Cat'\n",
      "b'Dog'\n",
      "b'Dog'\n",
      "b'Dog'\n",
      "b'Cat'\n",
      "b'Dog'\n",
      "b'Dog'\n",
      "b'Dog'\n",
      "b'Dog'\n",
      "b'Cat'\n",
      "b'Cat'\n",
      "b'Dog'\n",
      "b'Cat'\n",
      "b'Cat'\n"
     ]
    }
   ],
   "source": [
    "for labels in train_ds.map(get_labels):\n",
    "    print(labels.numpy())"
   ]
  },
  {
   "cell_type": "code",
   "execution_count": null,
   "id": "9f4f1a15-0acb-4fcf-9638-3a7aabd5fcee",
   "metadata": {},
   "outputs": [],
   "source": [
    "def process_image(filepath):\n",
    "    label = get_labels(file_path)\n",
    "    img = tf.io.read_file(filepath)\n",
    "    img = tf.image.decode_jpeg(img)\n",
    "    img = tf.image.resize(img, [180, 180])\n",
    "    return label"
   ]
  }
 ],
 "metadata": {
  "kernelspec": {
   "display_name": "Python 3 (ipykernel)",
   "language": "python",
   "name": "python3"
  },
  "language_info": {
   "codemirror_mode": {
    "name": "ipython",
    "version": 3
   },
   "file_extension": ".py",
   "mimetype": "text/x-python",
   "name": "python",
   "nbconvert_exporter": "python",
   "pygments_lexer": "ipython3",
   "version": "3.12.4"
  }
 },
 "nbformat": 4,
 "nbformat_minor": 5
}
