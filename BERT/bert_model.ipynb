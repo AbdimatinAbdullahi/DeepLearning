{
  "nbformat": 4,
  "nbformat_minor": 0,
  "metadata": {
    "colab": {
      "provenance": [],
      "toc_visible": true
    },
    "kernelspec": {
      "name": "python3",
      "display_name": "Python 3"
    },
    "language_info": {
      "name": "python"
    }
  },
  "cells": [
    {
      "cell_type": "markdown",
      "source": [
        "# New Section"
      ],
      "metadata": {
        "id": "0HrAs4eueaGK"
      }
    },
    {
      "cell_type": "code",
      "source": [
        "import tensorflow_text as text\n",
        "import tensorflow_hub as hub\n",
        "import tensorflow as tf"
      ],
      "metadata": {
        "id": "qaBRpd06eBFC"
      },
      "execution_count": 12,
      "outputs": []
    },
    {
      "cell_type": "code",
      "source": [
        "text_test = [\"nice movie indeed!\", \"I love python programming\"]\n",
        "processor_url = \"https://kaggle.com/models/tensorflow/bert/TensorFlow2/en-uncased-preprocess/3\"\n",
        "encoder_url = \"https://www.kaggle.com/models/tensorflow/bert/TensorFlow2/bert-en-uncased-l-12-h-768-a-12/2\"\n",
        "preprocessor = hub.KerasLayer(processor_url)\n",
        "text_preprocessed = preprocessor(text_test)\n",
        "text_preprocessed.keys()"
      ],
      "metadata": {
        "colab": {
          "base_uri": "https://localhost:8080/"
        },
        "id": "3NhI293zemmq",
        "outputId": "945daad5-e6ba-4181-98ca-d45fbe7c129a"
      },
      "execution_count": 13,
      "outputs": [
        {
          "output_type": "execute_result",
          "data": {
            "text/plain": [
              "dict_keys(['input_mask', 'input_type_ids', 'input_word_ids'])"
            ]
          },
          "metadata": {},
          "execution_count": 13
        }
      ]
    },
    {
      "cell_type": "code",
      "source": [
        "bert_model = hub.KerasLayer(encoder_url)\n",
        "bert_results = bert_model(text_preprocessed)\n",
        "bert_results.keys()"
      ],
      "metadata": {
        "colab": {
          "base_uri": "https://localhost:8080/"
        },
        "id": "d-v0nnHFfEUX",
        "outputId": "8d47055c-28a0-40f1-aa73-12bbd0d9aa77"
      },
      "execution_count": 14,
      "outputs": [
        {
          "output_type": "execute_result",
          "data": {
            "text/plain": [
              "dict_keys(['sequence_output', 'pooled_output', 'default', 'encoder_outputs'])"
            ]
          },
          "metadata": {},
          "execution_count": 14
        }
      ]
    },
    {
      "cell_type": "code",
      "source": [
        "bert_results[\"pooled_output\"] # Output the vector represenation of the entire sentence -> Good for task like sentiment classification"
      ],
      "metadata": {
        "colab": {
          "base_uri": "https://localhost:8080/"
        },
        "id": "APRFkRGJfet8",
        "outputId": "3f106932-7e51-4a1d-fef5-3d79e714a983"
      },
      "execution_count": 18,
      "outputs": [
        {
          "output_type": "execute_result",
          "data": {
            "text/plain": [
              "<tf.Tensor: shape=(2, 768), dtype=float32, numpy=\n",
              "array([[ 0.31745428, -0.35284653,  0.91617215, ..., -0.5903159 ,\n",
              "         0.2398101 ,  0.9947231 ],\n",
              "       [ 0.3991409 , -0.14203501,  0.9058576 , ..., -0.78319436,\n",
              "         0.17452335,  0.9984515 ]], dtype=float32)>"
            ]
          },
          "metadata": {},
          "execution_count": 18
        }
      ]
    },
    {
      "cell_type": "code",
      "source": [
        "len(bert_results[\"sequence_output\"][0][0]) # This output the vector representation of each token in the input sequence"
      ],
      "metadata": {
        "colab": {
          "base_uri": "https://localhost:8080/"
        },
        "id": "ahkl-Ch0f8DU",
        "outputId": "d643e4be-0a80-47e6-eee6-bdb9259c2445"
      },
      "execution_count": 27,
      "outputs": [
        {
          "output_type": "execute_result",
          "data": {
            "text/plain": [
              "768"
            ]
          },
          "metadata": {},
          "execution_count": 27
        }
      ]
    },
    {
      "cell_type": "code",
      "source": [],
      "metadata": {
        "id": "L5lc-oQEgP-O"
      },
      "execution_count": null,
      "outputs": []
    },
    {
      "cell_type": "code",
      "source": [
        "len(bert_results[\"sequence_output\"]) # Number of batch or sentence"
      ],
      "metadata": {
        "colab": {
          "base_uri": "https://localhost:8080/"
        },
        "id": "aT6x7HeagUR7",
        "outputId": "c23df37b-6c14-475a-86aa-9b46842aff61"
      },
      "execution_count": 25,
      "outputs": [
        {
          "output_type": "execute_result",
          "data": {
            "text/plain": [
              "2"
            ]
          },
          "metadata": {},
          "execution_count": 25
        }
      ]
    },
    {
      "cell_type": "code",
      "source": [
        "len(bert_results[\"sequence_output\"][0]) # The Length of tokens an entire sentence"
      ],
      "metadata": {
        "colab": {
          "base_uri": "https://localhost:8080/"
        },
        "id": "5uPM4s8QlHf2",
        "outputId": "3bb902e3-d7b9-48a1-9780-7d35fb364f7e"
      },
      "execution_count": 31,
      "outputs": [
        {
          "output_type": "execute_result",
          "data": {
            "text/plain": [
              "128"
            ]
          },
          "metadata": {},
          "execution_count": 31
        }
      ]
    },
    {
      "cell_type": "code",
      "source": [
        "bert_results[\"sequence_output\"][0]"
      ],
      "metadata": {
        "colab": {
          "base_uri": "https://localhost:8080/"
        },
        "id": "gf5AepvFl2Fj",
        "outputId": "392dc090-40c3-4605-f4cb-caf2c21bc5d8"
      },
      "execution_count": 34,
      "outputs": [
        {
          "output_type": "execute_result",
          "data": {
            "text/plain": [
              "<tf.Tensor: shape=(128, 768), dtype=float32, numpy=\n",
              "array([[-0.2543299 ,  0.4136645 ,  0.11988475, ...,  0.05838131,\n",
              "        -0.19118862, -0.36168373],\n",
              "       [ 0.5150734 , -0.05045756,  0.26351944, ...,  0.30420828,\n",
              "        -0.00806616,  0.24090753],\n",
              "       [-0.07662039,  0.20958927,  0.16420493, ..., -0.19253062,\n",
              "        -0.28244776, -0.5104307 ],\n",
              "       ...,\n",
              "       [ 0.13603824,  0.5397673 ,  0.44022825, ..., -0.2927473 ,\n",
              "         0.20739809,  0.28214955],\n",
              "       [-0.12290147,  0.10083847,  0.32473522, ...,  0.09814872,\n",
              "         0.09474888,  0.3179149 ],\n",
              "       [-0.09862508,  0.6374589 ,  0.09015322, ..., -0.08469819,\n",
              "        -0.10294732, -0.26600337]], dtype=float32)>"
            ]
          },
          "metadata": {},
          "execution_count": 34
        }
      ]
    },
    {
      "cell_type": "code",
      "source": [
        "bert_results[\"sequence_output\"][0] # Representaion of first token in the first sequence input"
      ],
      "metadata": {
        "colab": {
          "base_uri": "https://localhost:8080/"
        },
        "id": "fJxsUghonAka",
        "outputId": "9efa25e0-3bba-4f55-9deb-e4ecd803733c"
      },
      "execution_count": 37,
      "outputs": [
        {
          "output_type": "execute_result",
          "data": {
            "text/plain": [
              "<tf.Tensor: shape=(128, 768), dtype=float32, numpy=\n",
              "array([[-0.2543299 ,  0.4136645 ,  0.11988475, ...,  0.05838131,\n",
              "        -0.19118862, -0.36168373],\n",
              "       [ 0.5150734 , -0.05045756,  0.26351944, ...,  0.30420828,\n",
              "        -0.00806616,  0.24090753],\n",
              "       [-0.07662039,  0.20958927,  0.16420493, ..., -0.19253062,\n",
              "        -0.28244776, -0.5104307 ],\n",
              "       ...,\n",
              "       [ 0.13603824,  0.5397673 ,  0.44022825, ..., -0.2927473 ,\n",
              "         0.20739809,  0.28214955],\n",
              "       [-0.12290147,  0.10083847,  0.32473522, ...,  0.09814872,\n",
              "         0.09474888,  0.3179149 ],\n",
              "       [-0.09862508,  0.6374589 ,  0.09015322, ..., -0.08469819,\n",
              "        -0.10294732, -0.26600337]], dtype=float32)>"
            ]
          },
          "metadata": {},
          "execution_count": 37
        }
      ]
    },
    {
      "cell_type": "code",
      "source": [
        "bert_results[\"encoder_outputs\"][0]"
      ],
      "metadata": {
        "colab": {
          "base_uri": "https://localhost:8080/"
        },
        "id": "tmNZ18TjnSfu",
        "outputId": "d5a7a8be-b22d-46cc-b455-ad36d4a740cd"
      },
      "execution_count": 38,
      "outputs": [
        {
          "output_type": "execute_result",
          "data": {
            "text/plain": [
              "<tf.Tensor: shape=(2, 128, 768), dtype=float32, numpy=\n",
              "array([[[ 0.06800605, -0.10598262, -0.13105674, ..., -0.18217973,\n",
              "         -0.08342227,  0.04813497],\n",
              "        [ 0.29170883, -0.49296558,  0.22882177, ...,  1.0974519 ,\n",
              "         -1.1352427 ,  0.38380682],\n",
              "        [-0.7376857 , -1.0193546 , -0.39133024, ...,  0.5155023 ,\n",
              "          0.06112364,  0.07297958],\n",
              "        ...,\n",
              "        [ 0.60619855,  0.3991071 ,  0.42633742, ..., -0.2355206 ,\n",
              "          0.3889828 , -0.3429474 ],\n",
              "        [ 0.6589593 ,  0.5151232 ,  0.36015022, ..., -0.26972637,\n",
              "          0.43857104, -0.27134383],\n",
              "        [ 0.65913284,  0.54804575,  0.33734426, ..., -0.14543416,\n",
              "          0.49989974, -0.23330125]],\n",
              "\n",
              "       [[ 0.02516399, -0.16400944, -0.04662891, ..., -0.2618655 ,\n",
              "         -0.11140703,  0.15489224],\n",
              "        [ 0.37214527,  0.7362576 , -0.37717193, ...,  0.6425172 ,\n",
              "         -0.6226271 ,  0.05394955],\n",
              "        [-1.3278612 , -0.0473671 ,  0.47504824, ...,  0.01998842,\n",
              "         -0.4994462 ,  1.6198301 ],\n",
              "        ...,\n",
              "        [ 0.08730092,  0.25997493,  0.19453129, ..., -0.48460335,\n",
              "         -0.09897302,  0.08190538],\n",
              "        [ 0.11813483,  0.35214657,  0.13684383, ..., -0.49979624,\n",
              "         -0.03220356,  0.1556836 ],\n",
              "        [ 0.13688052,  0.396102  ,  0.1395889 , ..., -0.40598854,\n",
              "          0.02165354,  0.17896882]]], dtype=float32)>"
            ]
          },
          "metadata": {},
          "execution_count": 38
        }
      ]
    },
    {
      "cell_type": "code",
      "source": [
        "bert_results[\"encoder_outputs\"][11] # The output of the last encoder which"
      ],
      "metadata": {
        "colab": {
          "base_uri": "https://localhost:8080/"
        },
        "id": "00eH8EDGozA6",
        "outputId": "606131fc-71d3-41af-ff38-8a0da60f6ab2"
      },
      "execution_count": 39,
      "outputs": [
        {
          "output_type": "execute_result",
          "data": {
            "text/plain": [
              "<tf.Tensor: shape=(2, 128, 768), dtype=float32, numpy=\n",
              "array([[[-0.2543299 ,  0.4136645 ,  0.11988475, ...,  0.05838131,\n",
              "         -0.19118862, -0.36168373],\n",
              "        [ 0.5150734 , -0.05045756,  0.26351944, ...,  0.30420828,\n",
              "         -0.00806616,  0.24090753],\n",
              "        [-0.07662039,  0.20958927,  0.16420493, ..., -0.19253062,\n",
              "         -0.28244776, -0.5104307 ],\n",
              "        ...,\n",
              "        [ 0.13603824,  0.5397673 ,  0.44022825, ..., -0.2927473 ,\n",
              "          0.20739809,  0.28214955],\n",
              "        [-0.12290147,  0.10083847,  0.32473522, ...,  0.09814872,\n",
              "          0.09474888,  0.3179149 ],\n",
              "        [-0.09862508,  0.6374589 ,  0.09015322, ..., -0.08469819,\n",
              "         -0.10294732, -0.26600337]],\n",
              "\n",
              "       [[ 0.05904213, -0.21204117, -0.13617851, ...,  0.43750256,\n",
              "          0.5026955 , -0.35996336],\n",
              "        [ 0.6707301 ,  0.14048877, -0.09224142, ...,  0.42108783,\n",
              "          0.41119042, -0.5584124 ],\n",
              "        [ 0.17798199, -0.49039   , -0.38667142, ...,  0.1257011 ,\n",
              "         -0.2774938 , -0.15996684],\n",
              "        ...,\n",
              "        [ 0.09613043,  0.09817433, -0.08416954, ...,  0.0834782 ,\n",
              "          0.40399966,  0.11006398],\n",
              "        [ 0.38159353,  0.0698175 ,  0.11602609, ...,  0.11969946,\n",
              "          0.38731143, -0.1336098 ],\n",
              "        [ 0.07852425, -0.13976952, -0.10609241, ...,  0.2307665 ,\n",
              "          0.2601912 ,  0.10897444]]], dtype=float32)>"
            ]
          },
          "metadata": {},
          "execution_count": 39
        }
      ]
    },
    {
      "cell_type": "code",
      "source": [],
      "metadata": {
        "id": "WS3hJc4Do1s2"
      },
      "execution_count": null,
      "outputs": []
    }
  ]
}